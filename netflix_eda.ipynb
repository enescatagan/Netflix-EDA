{
 "cells": [
  {
   "attachments": {},
   "cell_type": "markdown",
   "metadata": {},
   "source": [
    "# Netflix Exploratory Data Analysis\n",
    "\n",
    "This notebook, I'll give EDA from **Netflix Data Set** from **kaggle**\n",
    "\n",
    "--**STEPS**--\n",
    "1. Basic Data Exploration\n",
    "   1. Import Packages and Load Data\n",
    "   2. Feature Exploration\n",
    "   3. Summary Statistics\n",
    "2. Data Cleaning\n",
    "   1. Null Value Analysis\n",
    "   2. Outlier Analysis\n",
    "3. Exploratory data analysis (Answering questions we have of the data) "
   ]
  },
  {
   "attachments": {},
   "cell_type": "markdown",
   "metadata": {},
   "source": [
    "## Basic Data Exploration\n",
    "1. Import Packages and load Data\n",
    "2. Feature Exploration\n",
    "3. Summary Statistics"
   ]
  },
  {
   "attachments": {},
   "cell_type": "markdown",
   "metadata": {},
   "source": [
    "#### Importing Libraries and Loading the Dataset"
   ]
  },
  {
   "cell_type": "code",
   "execution_count": 43,
   "metadata": {},
   "outputs": [],
   "source": [
    "# Import Relevant Packages\n",
    "import pandas as pd\n",
    "import seaborn as sns\n",
    "import numpy as np\n",
    "import matplotlib.pyplot as plt\n",
    "import missingno as msno"
   ]
  },
  {
   "cell_type": "code",
   "execution_count": null,
   "metadata": {},
   "outputs": [],
   "source": [
    "# Set some Options\n",
    "# ensure that all columns will be displayed in their entirety when printing a DataFrame.\n",
    "pd.set_option(\"display.max_columns\", None)\n",
    "# set the display width to 500 characters\n",
    "pd.set_option(\"display.width\", 500)"
   ]
  },
  {
   "cell_type": "code",
   "execution_count": null,
   "metadata": {},
   "outputs": [],
   "source": [
    "# Load Data set\n",
    "df = pd.read_csv('data_sets/netflix_titles.csv')"
   ]
  },
  {
   "attachments": {},
   "cell_type": "markdown",
   "metadata": {},
   "source": [
    "#### Feature Exploration"
   ]
  },
  {
   "cell_type": "code",
   "execution_count": null,
   "metadata": {},
   "outputs": [],
   "source": [
    "# First 3 Data\n",
    "df.head(3)"
   ]
  },
  {
   "cell_type": "code",
   "execution_count": null,
   "metadata": {},
   "outputs": [],
   "source": [
    "df.columns"
   ]
  },
  {
   "cell_type": "code",
   "execution_count": null,
   "metadata": {},
   "outputs": [],
   "source": [
    "df.shape"
   ]
  },
  {
   "cell_type": "code",
   "execution_count": null,
   "metadata": {},
   "outputs": [],
   "source": [
    "# Data types in columns\n",
    "df.info()"
   ]
  },
  {
   "attachments": {},
   "cell_type": "markdown",
   "metadata": {},
   "source": [
    "We Have:\n",
    "* 11 Categorical Feature\n",
    "* 1 Numeric Feature"
   ]
  },
  {
   "attachments": {},
   "cell_type": "markdown",
   "metadata": {},
   "source": [
    "#### Summary Statistics"
   ]
  },
  {
   "cell_type": "code",
   "execution_count": null,
   "metadata": {},
   "outputs": [],
   "source": [
    "# Summary statistics for numerical features\n",
    "numerical_features = df.select_dtypes(include='number')\n",
    "# We have only 'release_year' as a numeric feature\n",
    "numerical_features.describe().T"
   ]
  },
  {
   "cell_type": "code",
   "execution_count": 42,
   "metadata": {},
   "outputs": [
    {
     "data": {
      "text/html": [
       "<div>\n",
       "<style scoped>\n",
       "    .dataframe tbody tr th:only-of-type {\n",
       "        vertical-align: middle;\n",
       "    }\n",
       "\n",
       "    .dataframe tbody tr th {\n",
       "        vertical-align: top;\n",
       "    }\n",
       "\n",
       "    .dataframe thead th {\n",
       "        text-align: right;\n",
       "    }\n",
       "</style>\n",
       "<table border=\"1\" class=\"dataframe\">\n",
       "  <thead>\n",
       "    <tr style=\"text-align: right;\">\n",
       "      <th></th>\n",
       "      <th>count</th>\n",
       "      <th>unique</th>\n",
       "      <th>top</th>\n",
       "      <th>freq</th>\n",
       "    </tr>\n",
       "  </thead>\n",
       "  <tbody>\n",
       "    <tr>\n",
       "      <th>show_id</th>\n",
       "      <td>8807</td>\n",
       "      <td>8807</td>\n",
       "      <td>s1</td>\n",
       "      <td>1</td>\n",
       "    </tr>\n",
       "    <tr>\n",
       "      <th>type</th>\n",
       "      <td>8807</td>\n",
       "      <td>2</td>\n",
       "      <td>Movie</td>\n",
       "      <td>6131</td>\n",
       "    </tr>\n",
       "    <tr>\n",
       "      <th>title</th>\n",
       "      <td>8807</td>\n",
       "      <td>8807</td>\n",
       "      <td>Dick Johnson Is Dead</td>\n",
       "      <td>1</td>\n",
       "    </tr>\n",
       "    <tr>\n",
       "      <th>director</th>\n",
       "      <td>6173</td>\n",
       "      <td>4528</td>\n",
       "      <td>Rajiv Chilaka</td>\n",
       "      <td>19</td>\n",
       "    </tr>\n",
       "    <tr>\n",
       "      <th>cast</th>\n",
       "      <td>7982</td>\n",
       "      <td>7692</td>\n",
       "      <td>David Attenborough</td>\n",
       "      <td>19</td>\n",
       "    </tr>\n",
       "    <tr>\n",
       "      <th>country</th>\n",
       "      <td>7976</td>\n",
       "      <td>748</td>\n",
       "      <td>United States</td>\n",
       "      <td>2818</td>\n",
       "    </tr>\n",
       "    <tr>\n",
       "      <th>date_added</th>\n",
       "      <td>8797</td>\n",
       "      <td>1767</td>\n",
       "      <td>January 1, 2020</td>\n",
       "      <td>109</td>\n",
       "    </tr>\n",
       "    <tr>\n",
       "      <th>rating</th>\n",
       "      <td>8803</td>\n",
       "      <td>17</td>\n",
       "      <td>TV-MA</td>\n",
       "      <td>3207</td>\n",
       "    </tr>\n",
       "    <tr>\n",
       "      <th>duration</th>\n",
       "      <td>8804</td>\n",
       "      <td>220</td>\n",
       "      <td>1 Season</td>\n",
       "      <td>1793</td>\n",
       "    </tr>\n",
       "    <tr>\n",
       "      <th>listed_in</th>\n",
       "      <td>8807</td>\n",
       "      <td>514</td>\n",
       "      <td>Dramas, International Movies</td>\n",
       "      <td>362</td>\n",
       "    </tr>\n",
       "    <tr>\n",
       "      <th>description</th>\n",
       "      <td>8807</td>\n",
       "      <td>8775</td>\n",
       "      <td>Paranormal activity at a lush, abandoned prope...</td>\n",
       "      <td>4</td>\n",
       "    </tr>\n",
       "  </tbody>\n",
       "</table>\n",
       "</div>"
      ],
      "text/plain": [
       "            count unique                                                top  freq\n",
       "show_id      8807   8807                                                 s1     1\n",
       "type         8807      2                                              Movie  6131\n",
       "title        8807   8807                               Dick Johnson Is Dead     1\n",
       "director     6173   4528                                      Rajiv Chilaka    19\n",
       "cast         7982   7692                                 David Attenborough    19\n",
       "country      7976    748                                      United States  2818\n",
       "date_added   8797   1767                                    January 1, 2020   109\n",
       "rating       8803     17                                              TV-MA  3207\n",
       "duration     8804    220                                           1 Season  1793\n",
       "listed_in    8807    514                       Dramas, International Movies   362\n",
       "description  8807   8775  Paranormal activity at a lush, abandoned prope...     4"
      ]
     },
     "execution_count": 42,
     "metadata": {},
     "output_type": "execute_result"
    }
   ],
   "source": [
    "# Summary statistics for categorical features\n",
    "categorical_features = df.select_dtypes(include='object')\n",
    "categorical_features.describe().T"
   ]
  },
  {
   "attachments": {},
   "cell_type": "markdown",
   "metadata": {},
   "source": [
    "## Data Cleaning\n",
    "1. Null Value Analysis\n",
    "2. Outlier Analysis"
   ]
  },
  {
   "attachments": {},
   "cell_type": "markdown",
   "metadata": {},
   "source": [
    "#### Null Value Analysis"
   ]
  },
  {
   "cell_type": "code",
   "execution_count": null,
   "metadata": {},
   "outputs": [],
   "source": [
    "# Is there any null value in dataset\n",
    "df.isnull().values.any()"
   ]
  },
  {
   "cell_type": "code",
   "execution_count": null,
   "metadata": {},
   "outputs": [],
   "source": [
    "# Which features have how much null values?\n",
    "msno.matrix(df)"
   ]
  },
  {
   "cell_type": "code",
   "execution_count": null,
   "metadata": {},
   "outputs": [],
   "source": [
    "def missing_value_table(df, get_null_columns=False):\n",
    "    # find columns that only have null values\n",
    "    null_columns = [col for col in df.columns\n",
    "                    if df[col].isnull().sum() > 0]\n",
    "    \n",
    "    # Null Value counts\n",
    "    null_counts = df[null_columns].isnull().sum().sort_values(ascending=True)\n",
    "\n",
    "    # Null Value Percentage\n",
    "    null_value_rates = (df[null_columns].isnull().sum() / df.shape[0] * 100).sort_values(ascending=True)\n",
    "    formatted_null_value_rates = null_value_rates.apply(lambda value: f\"% {str(np.round(value, 2))}\")\n",
    "\n",
    "    # Null Value Table\n",
    "    null_df = pd.concat([null_counts, formatted_null_value_rates],\n",
    "                        axis=1, keys=[\"Null Value Count\", \"Null Value Rates\"])\n",
    "    print(null_df, end=\"\\n\")\n",
    "\n",
    "    if get_null_columns:\n",
    "        return null_columns\n",
    "    \n",
    "\n",
    "missing_value_table(df)"
   ]
  },
  {
   "attachments": {},
   "cell_type": "markdown",
   "metadata": {},
   "source": [
    "* Six features have null values and all of them is ***categorical feature***"
   ]
  },
  {
   "cell_type": "code",
   "execution_count": null,
   "metadata": {},
   "outputs": [],
   "source": [
    "# Turn null values to 'missing'\n",
    "columns_to_fill = missing_value_table(df, get_null_columns=True)\n",
    "df[columns_to_fill].fillna('missing')"
   ]
  },
  {
   "attachments": {},
   "cell_type": "markdown",
   "metadata": {},
   "source": [
    "#### Outlier Analysis"
   ]
  }
 ],
 "metadata": {
  "kernelspec": {
   "display_name": "base",
   "language": "python",
   "name": "python3"
  },
  "language_info": {
   "codemirror_mode": {
    "name": "ipython",
    "version": 3
   },
   "file_extension": ".py",
   "mimetype": "text/x-python",
   "name": "python",
   "nbconvert_exporter": "python",
   "pygments_lexer": "ipython3",
   "version": "3.10.9"
  },
  "orig_nbformat": 4
 },
 "nbformat": 4,
 "nbformat_minor": 2
}
